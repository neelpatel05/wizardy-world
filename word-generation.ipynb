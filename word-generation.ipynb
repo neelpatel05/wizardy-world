{
 "cells": [
  {
   "cell_type": "code",
   "execution_count": 1,
   "metadata": {},
   "outputs": [],
   "source": [
    "import pandas as pd\n",
    "import numpy as np\n",
    "import os\n",
    "import re"
   ]
  },
  {
   "cell_type": "code",
   "execution_count": 2,
   "metadata": {},
   "outputs": [],
   "source": [
    "def load_data():\n",
    "    dirs = os.listdir(\"c:/Users/patel/Documents/GitHub/wizardy-world-word-generation/books/\")\n",
    "    data = []\n",
    "    \n",
    "    for file_name in dirs:\n",
    "        file_name = \"./books/\" + file_name\n",
    "        file = open(file_name, 'r', encoding=\"utf8\")\n",
    "        data.append(file.read())\n",
    "        file.close()\n",
    "    \n",
    "    return data"
   ]
  },
  {
   "cell_type": "code",
   "execution_count": 24,
   "metadata": {},
   "outputs": [],
   "source": [
    "def clean_data(data):\n",
    "    words = []\n",
    "    for i in data:\n",
    "        words.append(re.findall(r'\\w+', i))\n",
    "    cleaned_data = []\n",
    "    for i in words:\n",
    "        for word in i:\n",
    "            if word.isalpha():\n",
    "                cleaned_data.append(word.lower())\n",
    "    return cleaned_data"
   ]
  },
  {
   "cell_type": "code",
   "execution_count": 25,
   "metadata": {},
   "outputs": [],
   "source": [
    "def sequence_data(cleaned_data):\n",
    "    x = len(cleaned_data)//51\n",
    "    cleaned_data = cleaned_data[:51*x]\n",
    "    sequences = [cleaned_data[i:i+51] for i in range(0,len(cleaned_data),51)]\n",
    "    return sequences\n",
    "        "
   ]
  },
  {
   "cell_type": "code",
   "execution_count": 26,
   "metadata": {},
   "outputs": [],
   "source": [
    "data = load_data()\n",
    "cleaned_data = clean_data(data)\n",
    "sequenced_data = sequence_data(cleaned_data)"
   ]
  },
  {
   "cell_type": "code",
   "execution_count": 27,
   "metadata": {},
   "outputs": [
    {
     "data": {
      "text/plain": [
       "51"
      ]
     },
     "execution_count": 27,
     "metadata": {},
     "output_type": "execute_result"
    }
   ],
   "source": [
    "len(sequenced_data[0])"
   ]
  },
  {
   "cell_type": "code",
   "execution_count": null,
   "metadata": {},
   "outputs": [],
   "source": []
  },
  {
   "cell_type": "code",
   "execution_count": null,
   "metadata": {},
   "outputs": [],
   "source": []
  }
 ],
 "metadata": {
  "kernelspec": {
   "display_name": "Python 3",
   "language": "python",
   "name": "python3"
  },
  "language_info": {
   "codemirror_mode": {
    "name": "ipython",
    "version": 3
   },
   "file_extension": ".py",
   "mimetype": "text/x-python",
   "name": "python",
   "nbconvert_exporter": "python",
   "pygments_lexer": "ipython3",
   "version": "3.7.6"
  }
 },
 "nbformat": 4,
 "nbformat_minor": 4
}
